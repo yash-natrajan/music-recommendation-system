{
 "cells": [
  {
   "cell_type": "markdown",
   "metadata": {},
   "source": [
    "## Music Recommendation System (KMeans Model)"
   ]
  },
  {
   "cell_type": "markdown",
   "metadata": {},
   "source": [
    "This project is aimed upon building a music recommendation system that gives the user recommendations on music based on his music taste by analysing his previously heard music and playlist."
   ]
  },
  {
   "cell_type": "code",
   "execution_count": 1,
   "metadata": {},
   "outputs": [],
   "source": [
    "import pandas as pd\n",
    "import numpy as np"
   ]
  },
  {
   "cell_type": "code",
   "execution_count": 2,
   "metadata": {},
   "outputs": [],
   "source": [
    "final = pd.read_csv('datasets/final/final.csv')\n",
    "metadata = pd.read_csv('datasets/final/metadata.csv')"
   ]
  },
  {
   "cell_type": "markdown",
   "metadata": {},
   "source": [
    "### Model Selection - K Means Algorithm"
   ]
  },
  {
   "cell_type": "code",
   "execution_count": 3,
   "metadata": {},
   "outputs": [],
   "source": [
    "from sklearn.cluster import KMeans\n",
    "from sklearn.utils import shuffle"
   ]
  },
  {
   "cell_type": "code",
   "execution_count": 4,
   "metadata": {},
   "outputs": [],
   "source": [
    "final = shuffle(final)"
   ]
  },
  {
   "cell_type": "code",
   "execution_count": 5,
   "metadata": {},
   "outputs": [],
   "source": [
    "X = final.loc[[i for i in range(0, 6000)]]\n",
    "Y = final.loc[[i for i in range(6000, final.shape[0])]]"
   ]
  },
  {
   "cell_type": "code",
   "execution_count": 6,
   "metadata": {},
   "outputs": [],
   "source": [
    "X = shuffle(X)\n",
    "Y = shuffle(Y)"
   ]
  },
  {
   "cell_type": "code",
   "execution_count": 7,
   "metadata": {
    "scrolled": true
   },
   "outputs": [
    {
     "data": {
      "text/html": [
       "<div>\n",
       "<style scoped>\n",
       "    .dataframe tbody tr th:only-of-type {\n",
       "        vertical-align: middle;\n",
       "    }\n",
       "\n",
       "    .dataframe tbody tr th {\n",
       "        vertical-align: top;\n",
       "    }\n",
       "\n",
       "    .dataframe thead th {\n",
       "        text-align: right;\n",
       "    }\n",
       "</style>\n",
       "<table border=\"1\" class=\"dataframe\">\n",
       "  <thead>\n",
       "    <tr style=\"text-align: right;\">\n",
       "      <th></th>\n",
       "      <th>track_id</th>\n",
       "      <th>album_title</th>\n",
       "      <th>artist_name</th>\n",
       "      <th>genre</th>\n",
       "      <th>track_title</th>\n",
       "    </tr>\n",
       "  </thead>\n",
       "  <tbody>\n",
       "    <tr>\n",
       "      <th>0</th>\n",
       "      <td>2</td>\n",
       "      <td>AWOL - A Way Of Life</td>\n",
       "      <td>AWOL</td>\n",
       "      <td>HipHop</td>\n",
       "      <td>Food</td>\n",
       "    </tr>\n",
       "    <tr>\n",
       "      <th>1</th>\n",
       "      <td>3</td>\n",
       "      <td>AWOL - A Way Of Life</td>\n",
       "      <td>AWOL</td>\n",
       "      <td>HipHop</td>\n",
       "      <td>Electric Ave</td>\n",
       "    </tr>\n",
       "    <tr>\n",
       "      <th>2</th>\n",
       "      <td>5</td>\n",
       "      <td>AWOL - A Way Of Life</td>\n",
       "      <td>AWOL</td>\n",
       "      <td>HipHop</td>\n",
       "      <td>This World</td>\n",
       "    </tr>\n",
       "    <tr>\n",
       "      <th>3</th>\n",
       "      <td>10</td>\n",
       "      <td>Constant Hitmaker</td>\n",
       "      <td>Kurt Vile</td>\n",
       "      <td>Pop</td>\n",
       "      <td>Freeway</td>\n",
       "    </tr>\n",
       "    <tr>\n",
       "      <th>4</th>\n",
       "      <td>134</td>\n",
       "      <td>AWOL - A Way Of Life</td>\n",
       "      <td>AWOL</td>\n",
       "      <td>HipHop</td>\n",
       "      <td>Street Music</td>\n",
       "    </tr>\n",
       "  </tbody>\n",
       "</table>\n",
       "</div>"
      ],
      "text/plain": [
       "   track_id           album_title artist_name   genre   track_title\n",
       "0         2  AWOL - A Way Of Life        AWOL  HipHop          Food\n",
       "1         3  AWOL - A Way Of Life        AWOL  HipHop  Electric Ave\n",
       "2         5  AWOL - A Way Of Life        AWOL  HipHop    This World\n",
       "3        10     Constant Hitmaker   Kurt Vile     Pop       Freeway\n",
       "4       134  AWOL - A Way Of Life        AWOL  HipHop  Street Music"
      ]
     },
     "execution_count": 7,
     "metadata": {},
     "output_type": "execute_result"
    }
   ],
   "source": [
    "metadata.head()"
   ]
  },
  {
   "cell_type": "code",
   "execution_count": 8,
   "metadata": {},
   "outputs": [],
   "source": [
    "metadata = metadata.set_index('track_id')"
   ]
  },
  {
   "cell_type": "code",
   "execution_count": 11,
   "metadata": {},
   "outputs": [],
   "source": [
    "# X.drop(['label'], axis= 1, inplace= True)"
   ]
  },
  {
   "cell_type": "code",
   "execution_count": 12,
   "metadata": {
    "scrolled": false
   },
   "outputs": [],
   "source": [
    "kmeans = KMeans(n_clusters=6)"
   ]
  },
  {
   "cell_type": "code",
   "execution_count": 13,
   "metadata": {},
   "outputs": [
    {
     "data": {
      "text/html": [
       "<div>\n",
       "<style scoped>\n",
       "    .dataframe tbody tr th:only-of-type {\n",
       "        vertical-align: middle;\n",
       "    }\n",
       "\n",
       "    .dataframe tbody tr th {\n",
       "        vertical-align: top;\n",
       "    }\n",
       "\n",
       "    .dataframe thead th {\n",
       "        text-align: right;\n",
       "    }\n",
       "</style>\n",
       "<table border=\"1\" class=\"dataframe\">\n",
       "  <thead>\n",
       "    <tr style=\"text-align: right;\">\n",
       "      <th></th>\n",
       "      <th>Unnamed: 0</th>\n",
       "      <th>track_id</th>\n",
       "      <th>acousticness</th>\n",
       "      <th>danceability</th>\n",
       "      <th>energy</th>\n",
       "      <th>instrumentalness</th>\n",
       "      <th>liveness</th>\n",
       "      <th>speechiness</th>\n",
       "      <th>tempo</th>\n",
       "      <th>valence</th>\n",
       "      <th>...</th>\n",
       "      <th>Holiday</th>\n",
       "      <th>Salsa</th>\n",
       "      <th>NuJazz</th>\n",
       "      <th>HipHop Beats</th>\n",
       "      <th>Modern Jazz</th>\n",
       "      <th>Turkish</th>\n",
       "      <th>Tango</th>\n",
       "      <th>Fado</th>\n",
       "      <th>Christmas</th>\n",
       "      <th>Instrumental</th>\n",
       "    </tr>\n",
       "  </thead>\n",
       "  <tbody>\n",
       "    <tr>\n",
       "      <th>8336</th>\n",
       "      <td>8336</td>\n",
       "      <td>36484</td>\n",
       "      <td>0.608064</td>\n",
       "      <td>0.408748</td>\n",
       "      <td>0.564634</td>\n",
       "      <td>0.854744</td>\n",
       "      <td>0.094408</td>\n",
       "      <td>0.033888</td>\n",
       "      <td>136.600</td>\n",
       "      <td>0.417060</td>\n",
       "      <td>...</td>\n",
       "      <td>0.0</td>\n",
       "      <td>0.0</td>\n",
       "      <td>0.0</td>\n",
       "      <td>0.0</td>\n",
       "      <td>0.0</td>\n",
       "      <td>0.0</td>\n",
       "      <td>0.0</td>\n",
       "      <td>0.0</td>\n",
       "      <td>0.0</td>\n",
       "      <td>0.0</td>\n",
       "    </tr>\n",
       "    <tr>\n",
       "      <th>6924</th>\n",
       "      <td>6924</td>\n",
       "      <td>29851</td>\n",
       "      <td>0.836752</td>\n",
       "      <td>0.529272</td>\n",
       "      <td>0.610601</td>\n",
       "      <td>0.951098</td>\n",
       "      <td>0.099956</td>\n",
       "      <td>0.033758</td>\n",
       "      <td>79.950</td>\n",
       "      <td>0.410610</td>\n",
       "      <td>...</td>\n",
       "      <td>0.0</td>\n",
       "      <td>0.0</td>\n",
       "      <td>0.0</td>\n",
       "      <td>0.0</td>\n",
       "      <td>0.0</td>\n",
       "      <td>0.0</td>\n",
       "      <td>0.0</td>\n",
       "      <td>0.0</td>\n",
       "      <td>0.0</td>\n",
       "      <td>0.0</td>\n",
       "    </tr>\n",
       "    <tr>\n",
       "      <th>10867</th>\n",
       "      <td>10867</td>\n",
       "      <td>50861</td>\n",
       "      <td>0.002917</td>\n",
       "      <td>0.413491</td>\n",
       "      <td>0.993252</td>\n",
       "      <td>0.817257</td>\n",
       "      <td>0.129934</td>\n",
       "      <td>0.059094</td>\n",
       "      <td>187.898</td>\n",
       "      <td>0.322365</td>\n",
       "      <td>...</td>\n",
       "      <td>0.0</td>\n",
       "      <td>0.0</td>\n",
       "      <td>0.0</td>\n",
       "      <td>0.0</td>\n",
       "      <td>0.0</td>\n",
       "      <td>0.0</td>\n",
       "      <td>0.0</td>\n",
       "      <td>0.0</td>\n",
       "      <td>0.0</td>\n",
       "      <td>0.0</td>\n",
       "    </tr>\n",
       "    <tr>\n",
       "      <th>9008</th>\n",
       "      <td>9008</td>\n",
       "      <td>40281</td>\n",
       "      <td>0.000121</td>\n",
       "      <td>0.207412</td>\n",
       "      <td>0.902083</td>\n",
       "      <td>0.920576</td>\n",
       "      <td>0.142439</td>\n",
       "      <td>0.066680</td>\n",
       "      <td>147.645</td>\n",
       "      <td>0.197916</td>\n",
       "      <td>...</td>\n",
       "      <td>0.0</td>\n",
       "      <td>0.0</td>\n",
       "      <td>0.0</td>\n",
       "      <td>0.0</td>\n",
       "      <td>0.0</td>\n",
       "      <td>0.0</td>\n",
       "      <td>0.0</td>\n",
       "      <td>0.0</td>\n",
       "      <td>0.0</td>\n",
       "      <td>0.0</td>\n",
       "    </tr>\n",
       "    <tr>\n",
       "      <th>9715</th>\n",
       "      <td>9715</td>\n",
       "      <td>44200</td>\n",
       "      <td>0.000145</td>\n",
       "      <td>0.110504</td>\n",
       "      <td>0.773145</td>\n",
       "      <td>0.118015</td>\n",
       "      <td>0.328981</td>\n",
       "      <td>0.149149</td>\n",
       "      <td>150.587</td>\n",
       "      <td>0.151443</td>\n",
       "      <td>...</td>\n",
       "      <td>0.0</td>\n",
       "      <td>0.0</td>\n",
       "      <td>0.0</td>\n",
       "      <td>0.0</td>\n",
       "      <td>0.0</td>\n",
       "      <td>0.0</td>\n",
       "      <td>0.0</td>\n",
       "      <td>0.0</td>\n",
       "      <td>0.0</td>\n",
       "      <td>0.0</td>\n",
       "    </tr>\n",
       "  </tbody>\n",
       "</table>\n",
       "<p>5 rows × 930 columns</p>\n",
       "</div>"
      ],
      "text/plain": [
       "       Unnamed: 0  track_id  acousticness  danceability    energy  \\\n",
       "8336         8336     36484      0.608064      0.408748  0.564634   \n",
       "6924         6924     29851      0.836752      0.529272  0.610601   \n",
       "10867       10867     50861      0.002917      0.413491  0.993252   \n",
       "9008         9008     40281      0.000121      0.207412  0.902083   \n",
       "9715         9715     44200      0.000145      0.110504  0.773145   \n",
       "\n",
       "       instrumentalness  liveness  speechiness    tempo   valence  ...  \\\n",
       "8336           0.854744  0.094408     0.033888  136.600  0.417060  ...   \n",
       "6924           0.951098  0.099956     0.033758   79.950  0.410610  ...   \n",
       "10867          0.817257  0.129934     0.059094  187.898  0.322365  ...   \n",
       "9008           0.920576  0.142439     0.066680  147.645  0.197916  ...   \n",
       "9715           0.118015  0.328981     0.149149  150.587  0.151443  ...   \n",
       "\n",
       "       Holiday  Salsa  NuJazz  HipHop Beats  Modern Jazz  Turkish  Tango  \\\n",
       "8336       0.0    0.0     0.0           0.0          0.0      0.0    0.0   \n",
       "6924       0.0    0.0     0.0           0.0          0.0      0.0    0.0   \n",
       "10867      0.0    0.0     0.0           0.0          0.0      0.0    0.0   \n",
       "9008       0.0    0.0     0.0           0.0          0.0      0.0    0.0   \n",
       "9715       0.0    0.0     0.0           0.0          0.0      0.0    0.0   \n",
       "\n",
       "       Fado  Christmas  Instrumental  \n",
       "8336    0.0        0.0           0.0  \n",
       "6924    0.0        0.0           0.0  \n",
       "10867   0.0        0.0           0.0  \n",
       "9008    0.0        0.0           0.0  \n",
       "9715    0.0        0.0           0.0  \n",
       "\n",
       "[5 rows x 930 columns]"
      ]
     },
     "execution_count": 13,
     "metadata": {},
     "output_type": "execute_result"
    }
   ],
   "source": [
    "Y.head()"
   ]
  },
  {
   "cell_type": "code",
   "execution_count": 14,
   "metadata": {},
   "outputs": [],
   "source": [
    "def fit(df, algo, flag=0):\n",
    "    if flag:\n",
    "        algo.fit(df)\n",
    "    else:\n",
    "         algo.partial_fit(df)          \n",
    "    df['label'] = algo.labels_\n",
    "    return (df, algo)"
   ]
  },
  {
   "cell_type": "code",
   "execution_count": 15,
   "metadata": {},
   "outputs": [],
   "source": [
    "def predict(t, Y):\n",
    "    y_pred = t[1].predict(Y)\n",
    "    mode = pd.Series(y_pred).mode()\n",
    "    return t[0][t[0]['label'] == mode.loc[0]]"
   ]
  },
  {
   "cell_type": "code",
   "execution_count": 16,
   "metadata": {},
   "outputs": [],
   "source": [
    "def recommend(recommendations, meta, Y):\n",
    "    dat = []\n",
    "    for i in Y['track_id']:\n",
    "        dat.append(i)\n",
    "    genre_mode = meta.loc[dat]['genre'].mode()\n",
    "    artist_mode = meta.loc[dat]['artist_name'].mode()\n",
    "    return meta[meta['genre'] == genre_mode.iloc[0]], meta[meta['artist_name'] == artist_mode.iloc[0]], meta.loc[recommendations['track_id']]"
   ]
  },
  {
   "cell_type": "code",
   "execution_count": 17,
   "metadata": {},
   "outputs": [],
   "source": [
    "t = fit(X, kmeans, 1)"
   ]
  },
  {
   "cell_type": "code",
   "execution_count": 18,
   "metadata": {},
   "outputs": [],
   "source": [
    "recommendations = predict(t, Y)"
   ]
  },
  {
   "cell_type": "code",
   "execution_count": 19,
   "metadata": {},
   "outputs": [],
   "source": [
    "output = recommend(recommendations, metadata, Y)"
   ]
  },
  {
   "cell_type": "code",
   "execution_count": 20,
   "metadata": {},
   "outputs": [],
   "source": [
    "genre_recommend, artist_name_recommend, mixed_recommend = output[0], output[1], output[2]"
   ]
  },
  {
   "cell_type": "code",
   "execution_count": 21,
   "metadata": {},
   "outputs": [
    {
     "data": {
      "text/plain": [
       "(3892, 4)"
      ]
     },
     "execution_count": 21,
     "metadata": {},
     "output_type": "execute_result"
    }
   ],
   "source": [
    "genre_recommend.shape"
   ]
  },
  {
   "cell_type": "code",
   "execution_count": 22,
   "metadata": {},
   "outputs": [
    {
     "data": {
      "text/plain": [
       "(52, 4)"
      ]
     },
     "execution_count": 22,
     "metadata": {},
     "output_type": "execute_result"
    }
   ],
   "source": [
    "artist_name_recommend.shape"
   ]
  },
  {
   "cell_type": "code",
   "execution_count": 23,
   "metadata": {},
   "outputs": [
    {
     "data": {
      "text/plain": [
       "(1150, 4)"
      ]
     },
     "execution_count": 23,
     "metadata": {},
     "output_type": "execute_result"
    }
   ],
   "source": [
    "mixed_recommend.shape"
   ]
  },
  {
   "cell_type": "code",
   "execution_count": 24,
   "metadata": {},
   "outputs": [
    {
     "data": {
      "text/html": [
       "<div>\n",
       "<style scoped>\n",
       "    .dataframe tbody tr th:only-of-type {\n",
       "        vertical-align: middle;\n",
       "    }\n",
       "\n",
       "    .dataframe tbody tr th {\n",
       "        vertical-align: top;\n",
       "    }\n",
       "\n",
       "    .dataframe thead th {\n",
       "        text-align: right;\n",
       "    }\n",
       "</style>\n",
       "<table border=\"1\" class=\"dataframe\">\n",
       "  <thead>\n",
       "    <tr style=\"text-align: right;\">\n",
       "      <th></th>\n",
       "      <th>album_title</th>\n",
       "      <th>artist_name</th>\n",
       "      <th>genre</th>\n",
       "      <th>track_title</th>\n",
       "    </tr>\n",
       "    <tr>\n",
       "      <th>track_id</th>\n",
       "      <th></th>\n",
       "      <th></th>\n",
       "      <th></th>\n",
       "      <th></th>\n",
       "    </tr>\n",
       "  </thead>\n",
       "  <tbody>\n",
       "    <tr>\n",
       "      <th>153</th>\n",
       "      <td>Arc and Sender</td>\n",
       "      <td>Arc and Sender</td>\n",
       "      <td>Rock</td>\n",
       "      <td>Hundred-Year Flood</td>\n",
       "    </tr>\n",
       "    <tr>\n",
       "      <th>154</th>\n",
       "      <td>Arc and Sender</td>\n",
       "      <td>Arc and Sender</td>\n",
       "      <td>Rock</td>\n",
       "      <td>Squares And Circles</td>\n",
       "    </tr>\n",
       "    <tr>\n",
       "      <th>155</th>\n",
       "      <td>unreleased demo</td>\n",
       "      <td>Arc and Sender</td>\n",
       "      <td>Rock</td>\n",
       "      <td>Maps of the Stars Homes</td>\n",
       "    </tr>\n",
       "    <tr>\n",
       "      <th>169</th>\n",
       "      <td>Boss of Goth</td>\n",
       "      <td>Argumentix</td>\n",
       "      <td>Rock</td>\n",
       "      <td>Boss of Goth</td>\n",
       "    </tr>\n",
       "    <tr>\n",
       "      <th>170</th>\n",
       "      <td>Nightmarcher</td>\n",
       "      <td>Argumentix</td>\n",
       "      <td>Rock</td>\n",
       "      <td>Industry Standard Massacre</td>\n",
       "    </tr>\n",
       "  </tbody>\n",
       "</table>\n",
       "</div>"
      ],
      "text/plain": [
       "              album_title     artist_name genre                 track_title\n",
       "track_id                                                                   \n",
       "153        Arc and Sender  Arc and Sender  Rock          Hundred-Year Flood\n",
       "154        Arc and Sender  Arc and Sender  Rock         Squares And Circles\n",
       "155       unreleased demo  Arc and Sender  Rock     Maps of the Stars Homes\n",
       "169          Boss of Goth      Argumentix  Rock                Boss of Goth\n",
       "170          Nightmarcher      Argumentix  Rock  Industry Standard Massacre"
      ]
     },
     "execution_count": 24,
     "metadata": {},
     "output_type": "execute_result"
    }
   ],
   "source": [
    "# Genre wise recommendations\n",
    "genre_recommend.head()"
   ]
  },
  {
   "cell_type": "code",
   "execution_count": 25,
   "metadata": {
    "scrolled": true
   },
   "outputs": [
    {
     "data": {
      "text/html": [
       "<div>\n",
       "<style scoped>\n",
       "    .dataframe tbody tr th:only-of-type {\n",
       "        vertical-align: middle;\n",
       "    }\n",
       "\n",
       "    .dataframe tbody tr th {\n",
       "        vertical-align: top;\n",
       "    }\n",
       "\n",
       "    .dataframe thead th {\n",
       "        text-align: right;\n",
       "    }\n",
       "</style>\n",
       "<table border=\"1\" class=\"dataframe\">\n",
       "  <thead>\n",
       "    <tr style=\"text-align: right;\">\n",
       "      <th></th>\n",
       "      <th>album_title</th>\n",
       "      <th>artist_name</th>\n",
       "      <th>genre</th>\n",
       "      <th>track_title</th>\n",
       "    </tr>\n",
       "    <tr>\n",
       "      <th>track_id</th>\n",
       "      <th></th>\n",
       "      <th></th>\n",
       "      <th></th>\n",
       "      <th></th>\n",
       "    </tr>\n",
       "  </thead>\n",
       "  <tbody>\n",
       "    <tr>\n",
       "      <th>34660</th>\n",
       "      <td>Zehu</td>\n",
       "      <td>51%</td>\n",
       "      <td>AvantGarde|International|Blues|Jazz|</td>\n",
       "      <td>Hadri Ha'Kat</td>\n",
       "    </tr>\n",
       "    <tr>\n",
       "      <th>34661</th>\n",
       "      <td>Zehu</td>\n",
       "      <td>51%</td>\n",
       "      <td>AvantGarde|International|Blues|Jazz|</td>\n",
       "      <td>Blender Tzivoni</td>\n",
       "    </tr>\n",
       "    <tr>\n",
       "      <th>34662</th>\n",
       "      <td>Zehu</td>\n",
       "      <td>51%</td>\n",
       "      <td>AvantGarde|International|Blues|Jazz|</td>\n",
       "      <td>Naniah</td>\n",
       "    </tr>\n",
       "    <tr>\n",
       "      <th>34663</th>\n",
       "      <td>Zehu</td>\n",
       "      <td>51%</td>\n",
       "      <td>AvantGarde|International|Blues|Jazz|</td>\n",
       "      <td>Yoter Miday</td>\n",
       "    </tr>\n",
       "    <tr>\n",
       "      <th>34664</th>\n",
       "      <td>Zehu</td>\n",
       "      <td>51%</td>\n",
       "      <td>AvantGarde|International|Blues|Jazz|</td>\n",
       "      <td>Yamim, Lielot</td>\n",
       "    </tr>\n",
       "  </tbody>\n",
       "</table>\n",
       "</div>"
      ],
      "text/plain": [
       "         album_title artist_name                                 genre  \\\n",
       "track_id                                                                 \n",
       "34660           Zehu         51%  AvantGarde|International|Blues|Jazz|   \n",
       "34661           Zehu         51%  AvantGarde|International|Blues|Jazz|   \n",
       "34662           Zehu         51%  AvantGarde|International|Blues|Jazz|   \n",
       "34663           Zehu         51%  AvantGarde|International|Blues|Jazz|   \n",
       "34664           Zehu         51%  AvantGarde|International|Blues|Jazz|   \n",
       "\n",
       "              track_title  \n",
       "track_id                   \n",
       "34660        Hadri Ha'Kat  \n",
       "34661     Blender Tzivoni  \n",
       "34662              Naniah  \n",
       "34663         Yoter Miday  \n",
       "34664       Yamim, Lielot  "
      ]
     },
     "execution_count": 25,
     "metadata": {},
     "output_type": "execute_result"
    }
   ],
   "source": [
    "# Artist wise recommendations\n",
    "artist_name_recommend.head()"
   ]
  },
  {
   "cell_type": "code",
   "execution_count": 26,
   "metadata": {},
   "outputs": [
    {
     "data": {
      "text/html": [
       "<div>\n",
       "<style scoped>\n",
       "    .dataframe tbody tr th:only-of-type {\n",
       "        vertical-align: middle;\n",
       "    }\n",
       "\n",
       "    .dataframe tbody tr th {\n",
       "        vertical-align: top;\n",
       "    }\n",
       "\n",
       "    .dataframe thead th {\n",
       "        text-align: right;\n",
       "    }\n",
       "</style>\n",
       "<table border=\"1\" class=\"dataframe\">\n",
       "  <thead>\n",
       "    <tr style=\"text-align: right;\">\n",
       "      <th></th>\n",
       "      <th>album_title</th>\n",
       "      <th>artist_name</th>\n",
       "      <th>genre</th>\n",
       "      <th>track_title</th>\n",
       "    </tr>\n",
       "    <tr>\n",
       "      <th>track_id</th>\n",
       "      <th></th>\n",
       "      <th></th>\n",
       "      <th></th>\n",
       "      <th></th>\n",
       "    </tr>\n",
       "  </thead>\n",
       "  <tbody>\n",
       "    <tr>\n",
       "      <th>10728</th>\n",
       "      <td>Lavori Domestici vol. 2</td>\n",
       "      <td>m16</td>\n",
       "      <td>Electronic</td>\n",
       "      <td>dub layers</td>\n",
       "    </tr>\n",
       "    <tr>\n",
       "      <th>14658</th>\n",
       "      <td>Ghosts I-IV</td>\n",
       "      <td>Nine Inch Nails</td>\n",
       "      <td>AvantGarde|International|</td>\n",
       "      <td>7 Ghosts I</td>\n",
       "    </tr>\n",
       "    <tr>\n",
       "      <th>14637</th>\n",
       "      <td>Chew And Swallow</td>\n",
       "      <td>Pussyfinger</td>\n",
       "      <td>AvantGarde|International|</td>\n",
       "      <td>Leviathalidomide (Crack Shot Mix)</td>\n",
       "    </tr>\n",
       "    <tr>\n",
       "      <th>23256</th>\n",
       "      <td>Bummer Daze</td>\n",
       "      <td>NASA</td>\n",
       "      <td>Rock</td>\n",
       "      <td>Side A, Track 1</td>\n",
       "    </tr>\n",
       "    <tr>\n",
       "      <th>7012</th>\n",
       "      <td>sleepy</td>\n",
       "      <td>junior85</td>\n",
       "      <td>Electronic</td>\n",
       "      <td>for reason, forgotten</td>\n",
       "    </tr>\n",
       "  </tbody>\n",
       "</table>\n",
       "</div>"
      ],
      "text/plain": [
       "                      album_title      artist_name                      genre  \\\n",
       "track_id                                                                        \n",
       "10728     Lavori Domestici vol. 2              m16                 Electronic   \n",
       "14658                 Ghosts I-IV  Nine Inch Nails  AvantGarde|International|   \n",
       "14637            Chew And Swallow      Pussyfinger  AvantGarde|International|   \n",
       "23256                 Bummer Daze             NASA                       Rock   \n",
       "7012                       sleepy         junior85                 Electronic   \n",
       "\n",
       "                                track_title  \n",
       "track_id                                     \n",
       "10728                            dub layers  \n",
       "14658                            7 Ghosts I  \n",
       "14637     Leviathalidomide (Crack Shot Mix)  \n",
       "23256                       Side A, Track 1  \n",
       "7012                  for reason, forgotten  "
      ]
     },
     "execution_count": 26,
     "metadata": {},
     "output_type": "execute_result"
    }
   ],
   "source": [
    "# Mixed Recommendations\n",
    "mixed_recommend.head()"
   ]
  },
  {
   "cell_type": "code",
   "execution_count": 27,
   "metadata": {},
   "outputs": [
    {
     "data": {
      "text/html": [
       "<div>\n",
       "<style scoped>\n",
       "    .dataframe tbody tr th:only-of-type {\n",
       "        vertical-align: middle;\n",
       "    }\n",
       "\n",
       "    .dataframe tbody tr th {\n",
       "        vertical-align: top;\n",
       "    }\n",
       "\n",
       "    .dataframe thead th {\n",
       "        text-align: right;\n",
       "    }\n",
       "</style>\n",
       "<table border=\"1\" class=\"dataframe\">\n",
       "  <thead>\n",
       "    <tr style=\"text-align: right;\">\n",
       "      <th></th>\n",
       "      <th>Unnamed: 0</th>\n",
       "      <th>track_id</th>\n",
       "      <th>acousticness</th>\n",
       "      <th>danceability</th>\n",
       "      <th>energy</th>\n",
       "      <th>instrumentalness</th>\n",
       "      <th>liveness</th>\n",
       "      <th>speechiness</th>\n",
       "      <th>tempo</th>\n",
       "      <th>valence</th>\n",
       "      <th>...</th>\n",
       "      <th>Salsa</th>\n",
       "      <th>NuJazz</th>\n",
       "      <th>HipHop Beats</th>\n",
       "      <th>Modern Jazz</th>\n",
       "      <th>Turkish</th>\n",
       "      <th>Tango</th>\n",
       "      <th>Fado</th>\n",
       "      <th>Christmas</th>\n",
       "      <th>Instrumental</th>\n",
       "      <th>label</th>\n",
       "    </tr>\n",
       "  </thead>\n",
       "  <tbody>\n",
       "    <tr>\n",
       "      <th>2525</th>\n",
       "      <td>2525</td>\n",
       "      <td>10728</td>\n",
       "      <td>0.003688</td>\n",
       "      <td>0.519284</td>\n",
       "      <td>0.684624</td>\n",
       "      <td>0.852703</td>\n",
       "      <td>0.094724</td>\n",
       "      <td>0.123539</td>\n",
       "      <td>58.052</td>\n",
       "      <td>0.495688</td>\n",
       "      <td>...</td>\n",
       "      <td>0.0</td>\n",
       "      <td>0.0</td>\n",
       "      <td>0.0</td>\n",
       "      <td>0.0</td>\n",
       "      <td>0.0</td>\n",
       "      <td>0.0</td>\n",
       "      <td>0.0</td>\n",
       "      <td>0.0</td>\n",
       "      <td>0.0</td>\n",
       "      <td>2</td>\n",
       "    </tr>\n",
       "    <tr>\n",
       "      <th>3715</th>\n",
       "      <td>3715</td>\n",
       "      <td>14658</td>\n",
       "      <td>0.721216</td>\n",
       "      <td>0.857841</td>\n",
       "      <td>0.872826</td>\n",
       "      <td>0.964758</td>\n",
       "      <td>0.111135</td>\n",
       "      <td>0.126369</td>\n",
       "      <td>130.646</td>\n",
       "      <td>0.488697</td>\n",
       "      <td>...</td>\n",
       "      <td>0.0</td>\n",
       "      <td>0.0</td>\n",
       "      <td>0.0</td>\n",
       "      <td>0.0</td>\n",
       "      <td>0.0</td>\n",
       "      <td>0.0</td>\n",
       "      <td>0.0</td>\n",
       "      <td>0.0</td>\n",
       "      <td>0.0</td>\n",
       "      <td>2</td>\n",
       "    </tr>\n",
       "    <tr>\n",
       "      <th>3704</th>\n",
       "      <td>3704</td>\n",
       "      <td>14637</td>\n",
       "      <td>0.474894</td>\n",
       "      <td>0.296272</td>\n",
       "      <td>0.654843</td>\n",
       "      <td>0.960660</td>\n",
       "      <td>0.174488</td>\n",
       "      <td>0.376502</td>\n",
       "      <td>102.429</td>\n",
       "      <td>0.036375</td>\n",
       "      <td>...</td>\n",
       "      <td>0.0</td>\n",
       "      <td>0.0</td>\n",
       "      <td>0.0</td>\n",
       "      <td>0.0</td>\n",
       "      <td>0.0</td>\n",
       "      <td>0.0</td>\n",
       "      <td>0.0</td>\n",
       "      <td>0.0</td>\n",
       "      <td>0.0</td>\n",
       "      <td>2</td>\n",
       "    </tr>\n",
       "    <tr>\n",
       "      <th>5745</th>\n",
       "      <td>5745</td>\n",
       "      <td>23256</td>\n",
       "      <td>0.000226</td>\n",
       "      <td>0.187655</td>\n",
       "      <td>0.905609</td>\n",
       "      <td>0.844922</td>\n",
       "      <td>0.442273</td>\n",
       "      <td>0.080647</td>\n",
       "      <td>131.878</td>\n",
       "      <td>0.136834</td>\n",
       "      <td>...</td>\n",
       "      <td>0.0</td>\n",
       "      <td>0.0</td>\n",
       "      <td>0.0</td>\n",
       "      <td>0.0</td>\n",
       "      <td>0.0</td>\n",
       "      <td>0.0</td>\n",
       "      <td>0.0</td>\n",
       "      <td>0.0</td>\n",
       "      <td>0.0</td>\n",
       "      <td>2</td>\n",
       "    </tr>\n",
       "    <tr>\n",
       "      <th>2043</th>\n",
       "      <td>2043</td>\n",
       "      <td>7012</td>\n",
       "      <td>0.909520</td>\n",
       "      <td>0.137430</td>\n",
       "      <td>0.167335</td>\n",
       "      <td>0.915290</td>\n",
       "      <td>0.108529</td>\n",
       "      <td>0.041094</td>\n",
       "      <td>86.244</td>\n",
       "      <td>0.038710</td>\n",
       "      <td>...</td>\n",
       "      <td>0.0</td>\n",
       "      <td>0.0</td>\n",
       "      <td>0.0</td>\n",
       "      <td>0.0</td>\n",
       "      <td>0.0</td>\n",
       "      <td>0.0</td>\n",
       "      <td>0.0</td>\n",
       "      <td>0.0</td>\n",
       "      <td>0.0</td>\n",
       "      <td>2</td>\n",
       "    </tr>\n",
       "  </tbody>\n",
       "</table>\n",
       "<p>5 rows × 931 columns</p>\n",
       "</div>"
      ],
      "text/plain": [
       "      Unnamed: 0  track_id  acousticness  danceability    energy  \\\n",
       "2525        2525     10728      0.003688      0.519284  0.684624   \n",
       "3715        3715     14658      0.721216      0.857841  0.872826   \n",
       "3704        3704     14637      0.474894      0.296272  0.654843   \n",
       "5745        5745     23256      0.000226      0.187655  0.905609   \n",
       "2043        2043      7012      0.909520      0.137430  0.167335   \n",
       "\n",
       "      instrumentalness  liveness  speechiness    tempo   valence  ...  Salsa  \\\n",
       "2525          0.852703  0.094724     0.123539   58.052  0.495688  ...    0.0   \n",
       "3715          0.964758  0.111135     0.126369  130.646  0.488697  ...    0.0   \n",
       "3704          0.960660  0.174488     0.376502  102.429  0.036375  ...    0.0   \n",
       "5745          0.844922  0.442273     0.080647  131.878  0.136834  ...    0.0   \n",
       "2043          0.915290  0.108529     0.041094   86.244  0.038710  ...    0.0   \n",
       "\n",
       "      NuJazz  HipHop Beats  Modern Jazz  Turkish  Tango  Fado  Christmas  \\\n",
       "2525     0.0           0.0          0.0      0.0    0.0   0.0        0.0   \n",
       "3715     0.0           0.0          0.0      0.0    0.0   0.0        0.0   \n",
       "3704     0.0           0.0          0.0      0.0    0.0   0.0        0.0   \n",
       "5745     0.0           0.0          0.0      0.0    0.0   0.0        0.0   \n",
       "2043     0.0           0.0          0.0      0.0    0.0   0.0        0.0   \n",
       "\n",
       "      Instrumental  label  \n",
       "2525           0.0      2  \n",
       "3715           0.0      2  \n",
       "3704           0.0      2  \n",
       "5745           0.0      2  \n",
       "2043           0.0      2  \n",
       "\n",
       "[5 rows x 931 columns]"
      ]
     },
     "execution_count": 27,
     "metadata": {},
     "output_type": "execute_result"
    }
   ],
   "source": [
    "recommendations.head()"
   ]
  },
  {
   "cell_type": "code",
   "execution_count": 28,
   "metadata": {},
   "outputs": [
    {
     "data": {
      "text/plain": [
       "51%    52\n",
       "Name: artist_name, dtype: int64"
      ]
     },
     "execution_count": 28,
     "metadata": {},
     "output_type": "execute_result"
    }
   ],
   "source": [
    "artist_name_recommend['artist_name'].value_counts()"
   ]
  },
  {
   "cell_type": "code",
   "execution_count": 29,
   "metadata": {},
   "outputs": [
    {
     "data": {
      "text/plain": [
       "Rock    3892\n",
       "Name: genre, dtype: int64"
      ]
     },
     "execution_count": 29,
     "metadata": {},
     "output_type": "execute_result"
    }
   ],
   "source": [
    "genre_recommend['genre'].value_counts()"
   ]
  },
  {
   "cell_type": "code",
   "execution_count": 30,
   "metadata": {},
   "outputs": [
    {
     "data": {
      "text/plain": [
       "Glove Compartment                      65\n",
       "Blah Blah Blah                         62\n",
       "Mors Ontologica                        50\n",
       "Les Baudouins Morts                    38\n",
       "Kraus                                  35\n",
       "                                       ..\n",
       "Hull                                    1\n",
       "Night Manager                           1\n",
       "Desmond & The Tutus                     1\n",
       "Wildildlife                             1\n",
       "Riding Alone for Thousands of Miles     1\n",
       "Name: artist_name, Length: 725, dtype: int64"
      ]
     },
     "execution_count": 30,
     "metadata": {},
     "output_type": "execute_result"
    }
   ],
   "source": [
    "genre_recommend['artist_name'].value_counts()"
   ]
  },
  {
   "cell_type": "markdown",
   "metadata": {},
   "source": [
    "#### Testing"
   ]
  },
  {
   "cell_type": "code",
   "execution_count": 31,
   "metadata": {},
   "outputs": [],
   "source": [
    "testing = Y.iloc[6:12]['track_id']"
   ]
  },
  {
   "cell_type": "code",
   "execution_count": 32,
   "metadata": {},
   "outputs": [
    {
     "data": {
      "text/plain": [
       "9610     43754\n",
       "10774    50432\n",
       "6193     25380\n",
       "9095     40780\n",
       "9158     40943\n",
       "8442     37322\n",
       "Name: track_id, dtype: int64"
      ]
     },
     "execution_count": 32,
     "metadata": {},
     "output_type": "execute_result"
    }
   ],
   "source": [
    "testing"
   ]
  },
  {
   "cell_type": "code",
   "execution_count": 33,
   "metadata": {},
   "outputs": [],
   "source": [
    "ids = testing.loc[testing.index]"
   ]
  },
  {
   "cell_type": "code",
   "execution_count": 34,
   "metadata": {},
   "outputs": [],
   "source": [
    "songs = metadata.loc[testing.loc[list(testing.index)]]"
   ]
  },
  {
   "cell_type": "code",
   "execution_count": 35,
   "metadata": {},
   "outputs": [
    {
     "data": {
      "text/html": [
       "<div>\n",
       "<style scoped>\n",
       "    .dataframe tbody tr th:only-of-type {\n",
       "        vertical-align: middle;\n",
       "    }\n",
       "\n",
       "    .dataframe tbody tr th {\n",
       "        vertical-align: top;\n",
       "    }\n",
       "\n",
       "    .dataframe thead th {\n",
       "        text-align: right;\n",
       "    }\n",
       "</style>\n",
       "<table border=\"1\" class=\"dataframe\">\n",
       "  <thead>\n",
       "    <tr style=\"text-align: right;\">\n",
       "      <th></th>\n",
       "      <th>album_title</th>\n",
       "      <th>artist_name</th>\n",
       "      <th>genre</th>\n",
       "      <th>track_title</th>\n",
       "    </tr>\n",
       "    <tr>\n",
       "      <th>track_id</th>\n",
       "      <th></th>\n",
       "      <th></th>\n",
       "      <th></th>\n",
       "      <th></th>\n",
       "    </tr>\n",
       "  </thead>\n",
       "  <tbody>\n",
       "    <tr>\n",
       "      <th>43754</th>\n",
       "      <td>Modluv</td>\n",
       "      <td>Sans Blanc</td>\n",
       "      <td>AvantGarde|International|Blues|</td>\n",
       "      <td>Rien n'aiment</td>\n",
       "    </tr>\n",
       "    <tr>\n",
       "      <th>50432</th>\n",
       "      <td>Watchmaker: Co-Axial Escapement</td>\n",
       "      <td>Eaters</td>\n",
       "      <td>AvantGarde|International|Blues|</td>\n",
       "      <td>Workings</td>\n",
       "    </tr>\n",
       "    <tr>\n",
       "      <th>25380</th>\n",
       "      <td>iHyper</td>\n",
       "      <td>Zinger</td>\n",
       "      <td>Electronic</td>\n",
       "      <td>rhino sting</td>\n",
       "    </tr>\n",
       "    <tr>\n",
       "      <th>40780</th>\n",
       "      <td>You, Me &amp; The Werewolves EP</td>\n",
       "      <td>E.lebleu</td>\n",
       "      <td>Electronic</td>\n",
       "      <td>Polynesian Rush feat. Rugoso</td>\n",
       "    </tr>\n",
       "    <tr>\n",
       "      <th>40943</th>\n",
       "      <td>Live on WFMU's Cherry Blossom Clinic with Terr...</td>\n",
       "      <td>Parting Gifts</td>\n",
       "      <td>Rock</td>\n",
       "      <td>Keep Walking</td>\n",
       "    </tr>\n",
       "    <tr>\n",
       "      <th>37322</th>\n",
       "      <td>Live on WFMU's Inner Ear Detour, Oct 1st 2010</td>\n",
       "      <td>Už Jsme Doma</td>\n",
       "      <td>Rock</td>\n",
       "      <td>Puklinka (Cranny)</td>\n",
       "    </tr>\n",
       "  </tbody>\n",
       "</table>\n",
       "</div>"
      ],
      "text/plain": [
       "                                                album_title    artist_name  \\\n",
       "track_id                                                                     \n",
       "43754                                                Modluv     Sans Blanc   \n",
       "50432                       Watchmaker: Co-Axial Escapement         Eaters   \n",
       "25380                                                iHyper         Zinger   \n",
       "40780                           You, Me & The Werewolves EP       E.lebleu   \n",
       "40943     Live on WFMU's Cherry Blossom Clinic with Terr...  Parting Gifts   \n",
       "37322         Live on WFMU's Inner Ear Detour, Oct 1st 2010   Už Jsme Doma   \n",
       "\n",
       "                                    genre                   track_title  \n",
       "track_id                                                                 \n",
       "43754     AvantGarde|International|Blues|                 Rien n'aiment  \n",
       "50432     AvantGarde|International|Blues|                      Workings  \n",
       "25380                          Electronic                   rhino sting  \n",
       "40780                          Electronic  Polynesian Rush feat. Rugoso  \n",
       "40943                                Rock                  Keep Walking  \n",
       "37322                                Rock             Puklinka (Cranny)  "
      ]
     },
     "execution_count": 35,
     "metadata": {},
     "output_type": "execute_result"
    }
   ],
   "source": [
    "songs"
   ]
  },
  {
   "cell_type": "code",
   "execution_count": 36,
   "metadata": {},
   "outputs": [],
   "source": [
    "re = predict(t, Y.iloc[6:12])"
   ]
  },
  {
   "cell_type": "code",
   "execution_count": 37,
   "metadata": {},
   "outputs": [],
   "source": [
    "output = recommend(re, metadata, Y.iloc[6:12])"
   ]
  },
  {
   "cell_type": "code",
   "execution_count": 38,
   "metadata": {},
   "outputs": [],
   "source": [
    "ge_re, ge_ar, ge_mix = output[0], output[1], output[2]"
   ]
  },
  {
   "cell_type": "code",
   "execution_count": 39,
   "metadata": {},
   "outputs": [
    {
     "data": {
      "text/html": [
       "<div>\n",
       "<style scoped>\n",
       "    .dataframe tbody tr th:only-of-type {\n",
       "        vertical-align: middle;\n",
       "    }\n",
       "\n",
       "    .dataframe tbody tr th {\n",
       "        vertical-align: top;\n",
       "    }\n",
       "\n",
       "    .dataframe thead th {\n",
       "        text-align: right;\n",
       "    }\n",
       "</style>\n",
       "<table border=\"1\" class=\"dataframe\">\n",
       "  <thead>\n",
       "    <tr style=\"text-align: right;\">\n",
       "      <th></th>\n",
       "      <th>album_title</th>\n",
       "      <th>artist_name</th>\n",
       "      <th>genre</th>\n",
       "      <th>track_title</th>\n",
       "    </tr>\n",
       "    <tr>\n",
       "      <th>track_id</th>\n",
       "      <th></th>\n",
       "      <th></th>\n",
       "      <th></th>\n",
       "      <th></th>\n",
       "    </tr>\n",
       "  </thead>\n",
       "  <tbody>\n",
       "    <tr>\n",
       "      <th>1574</th>\n",
       "      <td>Please Throw Me Back in The Ocean</td>\n",
       "      <td>Sir Lord Von Raven</td>\n",
       "      <td>AvantGarde|International|Blues|</td>\n",
       "      <td>The Glass Castle</td>\n",
       "    </tr>\n",
       "    <tr>\n",
       "      <th>1575</th>\n",
       "      <td>Please Throw Me Back in The Ocean</td>\n",
       "      <td>Sir Lord Von Raven</td>\n",
       "      <td>AvantGarde|International|Blues|</td>\n",
       "      <td>Take it or Leave it</td>\n",
       "    </tr>\n",
       "    <tr>\n",
       "      <th>1892</th>\n",
       "      <td>Tommy Jay's Tall Tales Of Trauma</td>\n",
       "      <td>Tommy Jay</td>\n",
       "      <td>AvantGarde|International|Blues|</td>\n",
       "      <td>I Was There</td>\n",
       "    </tr>\n",
       "    <tr>\n",
       "      <th>3394</th>\n",
       "      <td>Live at WFMU on Liz Berg's Show on 5/19/2008</td>\n",
       "      <td>Bonde Do Role</td>\n",
       "      <td>AvantGarde|International|Blues|</td>\n",
       "      <td>Gasolina / Contamida</td>\n",
       "    </tr>\n",
       "    <tr>\n",
       "      <th>3396</th>\n",
       "      <td>Live at WFMU on Liz Berg's Show on 5/19/2008</td>\n",
       "      <td>Bonde Do Role</td>\n",
       "      <td>AvantGarde|International|Blues|</td>\n",
       "      <td>Solta o Franco</td>\n",
       "    </tr>\n",
       "  </tbody>\n",
       "</table>\n",
       "</div>"
      ],
      "text/plain": [
       "                                           album_title         artist_name  \\\n",
       "track_id                                                                     \n",
       "1574                 Please Throw Me Back in The Ocean  Sir Lord Von Raven   \n",
       "1575                 Please Throw Me Back in The Ocean  Sir Lord Von Raven   \n",
       "1892                  Tommy Jay's Tall Tales Of Trauma           Tommy Jay   \n",
       "3394      Live at WFMU on Liz Berg's Show on 5/19/2008       Bonde Do Role   \n",
       "3396      Live at WFMU on Liz Berg's Show on 5/19/2008       Bonde Do Role   \n",
       "\n",
       "                                    genre           track_title  \n",
       "track_id                                                         \n",
       "1574      AvantGarde|International|Blues|      The Glass Castle  \n",
       "1575      AvantGarde|International|Blues|   Take it or Leave it  \n",
       "1892      AvantGarde|International|Blues|           I Was There  \n",
       "3394      AvantGarde|International|Blues|  Gasolina / Contamida  \n",
       "3396      AvantGarde|International|Blues|        Solta o Franco  "
      ]
     },
     "execution_count": 39,
     "metadata": {},
     "output_type": "execute_result"
    }
   ],
   "source": [
    "ge_re.head()"
   ]
  },
  {
   "cell_type": "code",
   "execution_count": 40,
   "metadata": {},
   "outputs": [
    {
     "data": {
      "text/html": [
       "<div>\n",
       "<style scoped>\n",
       "    .dataframe tbody tr th:only-of-type {\n",
       "        vertical-align: middle;\n",
       "    }\n",
       "\n",
       "    .dataframe tbody tr th {\n",
       "        vertical-align: top;\n",
       "    }\n",
       "\n",
       "    .dataframe thead th {\n",
       "        text-align: right;\n",
       "    }\n",
       "</style>\n",
       "<table border=\"1\" class=\"dataframe\">\n",
       "  <thead>\n",
       "    <tr style=\"text-align: right;\">\n",
       "      <th></th>\n",
       "      <th>album_title</th>\n",
       "      <th>artist_name</th>\n",
       "      <th>genre</th>\n",
       "      <th>track_title</th>\n",
       "    </tr>\n",
       "    <tr>\n",
       "      <th>track_id</th>\n",
       "      <th></th>\n",
       "      <th></th>\n",
       "      <th></th>\n",
       "      <th></th>\n",
       "    </tr>\n",
       "  </thead>\n",
       "  <tbody>\n",
       "    <tr>\n",
       "      <th>40780</th>\n",
       "      <td>You, Me &amp; The Werewolves EP</td>\n",
       "      <td>E.lebleu</td>\n",
       "      <td>Electronic</td>\n",
       "      <td>Polynesian Rush feat. Rugoso</td>\n",
       "    </tr>\n",
       "    <tr>\n",
       "      <th>40781</th>\n",
       "      <td>You, Me &amp; The Werewolves EP</td>\n",
       "      <td>E.lebleu</td>\n",
       "      <td>Electronic</td>\n",
       "      <td>Like Tigers in the Back Seat of My Car</td>\n",
       "    </tr>\n",
       "    <tr>\n",
       "      <th>40782</th>\n",
       "      <td>You, Me &amp; The Werewolves EP</td>\n",
       "      <td>E.lebleu</td>\n",
       "      <td>Electronic</td>\n",
       "      <td>I Wish You Were Real</td>\n",
       "    </tr>\n",
       "    <tr>\n",
       "      <th>40783</th>\n",
       "      <td>You, Me &amp; The Werewolves EP</td>\n",
       "      <td>E.lebleu</td>\n",
       "      <td>Electronic</td>\n",
       "      <td>The Mothman feat. Nuuro</td>\n",
       "    </tr>\n",
       "    <tr>\n",
       "      <th>40784</th>\n",
       "      <td>You, Me &amp; The Werewolves EP</td>\n",
       "      <td>E.lebleu</td>\n",
       "      <td>Electronic</td>\n",
       "      <td>The Two Lines Between Us</td>\n",
       "    </tr>\n",
       "  </tbody>\n",
       "</table>\n",
       "</div>"
      ],
      "text/plain": [
       "                          album_title artist_name       genre  \\\n",
       "track_id                                                        \n",
       "40780     You, Me & The Werewolves EP    E.lebleu  Electronic   \n",
       "40781     You, Me & The Werewolves EP    E.lebleu  Electronic   \n",
       "40782     You, Me & The Werewolves EP    E.lebleu  Electronic   \n",
       "40783     You, Me & The Werewolves EP    E.lebleu  Electronic   \n",
       "40784     You, Me & The Werewolves EP    E.lebleu  Electronic   \n",
       "\n",
       "                                     track_title  \n",
       "track_id                                          \n",
       "40780               Polynesian Rush feat. Rugoso  \n",
       "40781     Like Tigers in the Back Seat of My Car  \n",
       "40782                       I Wish You Were Real  \n",
       "40783                    The Mothman feat. Nuuro  \n",
       "40784                   The Two Lines Between Us  "
      ]
     },
     "execution_count": 40,
     "metadata": {},
     "output_type": "execute_result"
    }
   ],
   "source": [
    "ge_ar.head(10)"
   ]
  },
  {
   "cell_type": "code",
   "execution_count": 41,
   "metadata": {},
   "outputs": [
    {
     "data": {
      "text/html": [
       "<div>\n",
       "<style scoped>\n",
       "    .dataframe tbody tr th:only-of-type {\n",
       "        vertical-align: middle;\n",
       "    }\n",
       "\n",
       "    .dataframe tbody tr th {\n",
       "        vertical-align: top;\n",
       "    }\n",
       "\n",
       "    .dataframe thead th {\n",
       "        text-align: right;\n",
       "    }\n",
       "</style>\n",
       "<table border=\"1\" class=\"dataframe\">\n",
       "  <thead>\n",
       "    <tr style=\"text-align: right;\">\n",
       "      <th></th>\n",
       "      <th>album_title</th>\n",
       "      <th>artist_name</th>\n",
       "      <th>genre</th>\n",
       "      <th>track_title</th>\n",
       "    </tr>\n",
       "    <tr>\n",
       "      <th>track_id</th>\n",
       "      <th></th>\n",
       "      <th></th>\n",
       "      <th></th>\n",
       "      <th></th>\n",
       "    </tr>\n",
       "  </thead>\n",
       "  <tbody>\n",
       "    <tr>\n",
       "      <th>12997</th>\n",
       "      <td>Pirate Planets</td>\n",
       "      <td>D-84</td>\n",
       "      <td>Electronic</td>\n",
       "      <td>Bevin's Big Fat Mama - Rj Wuz Here (Thanks Peep)</td>\n",
       "    </tr>\n",
       "    <tr>\n",
       "      <th>23410</th>\n",
       "      <td>Mr. Hadopi</td>\n",
       "      <td>Vicnet</td>\n",
       "      <td>AvantGarde|International|Blues|Jazz|</td>\n",
       "      <td>Apthe 707</td>\n",
       "    </tr>\n",
       "    <tr>\n",
       "      <th>19894</th>\n",
       "      <td>Personal Injury Assist</td>\n",
       "      <td>THF Drenching</td>\n",
       "      <td>AvantGarde|International|</td>\n",
       "      <td>Personal Injury Assist Go Home</td>\n",
       "    </tr>\n",
       "    <tr>\n",
       "      <th>14685</th>\n",
       "      <td>iChic</td>\n",
       "      <td>Must Have Been Tokyo</td>\n",
       "      <td>AvantGarde|International|</td>\n",
       "      <td>Blood In The Water</td>\n",
       "    </tr>\n",
       "    <tr>\n",
       "      <th>8910</th>\n",
       "      <td>666</td>\n",
       "      <td>Hayvanlar Alemi</td>\n",
       "      <td>AvantGarde|International|Blues|</td>\n",
       "      <td>Neptune Sunset Casino</td>\n",
       "    </tr>\n",
       "    <tr>\n",
       "      <th>12146</th>\n",
       "      <td>Slanted Eyes, Slanted Hearts</td>\n",
       "      <td>The Slants</td>\n",
       "      <td>Pop</td>\n",
       "      <td>Kokoro (I Fall To Pieces)</td>\n",
       "    </tr>\n",
       "    <tr>\n",
       "      <th>11056</th>\n",
       "      <td>Today is Sunday</td>\n",
       "      <td>Meanwhileproject.ltd</td>\n",
       "      <td>AvantGarde|International|</td>\n",
       "      <td>The shore</td>\n",
       "    </tr>\n",
       "    <tr>\n",
       "      <th>18088</th>\n",
       "      <td>Chapter 2: Street Soul</td>\n",
       "      <td>Advantage Music Group</td>\n",
       "      <td>HipHop</td>\n",
       "      <td>Details ILL POETIX</td>\n",
       "    </tr>\n",
       "    <tr>\n",
       "      <th>24240</th>\n",
       "      <td>Revive</td>\n",
       "      <td>Steadman</td>\n",
       "      <td>AvantGarde|International|Blues|Jazz|</td>\n",
       "      <td>Come Alive</td>\n",
       "    </tr>\n",
       "    <tr>\n",
       "      <th>5246</th>\n",
       "      <td>Live at WFMU on Evan Davies's Show on 8/19/2008</td>\n",
       "      <td>The Cute Lepers</td>\n",
       "      <td>Rock</td>\n",
       "      <td>Intro</td>\n",
       "    </tr>\n",
       "  </tbody>\n",
       "</table>\n",
       "</div>"
      ],
      "text/plain": [
       "                                              album_title  \\\n",
       "track_id                                                    \n",
       "12997                                      Pirate Planets   \n",
       "23410                                          Mr. Hadopi   \n",
       "19894                              Personal Injury Assist   \n",
       "14685                                               iChic   \n",
       "8910                                                  666   \n",
       "12146                        Slanted Eyes, Slanted Hearts   \n",
       "11056                                     Today is Sunday   \n",
       "18088                              Chapter 2: Street Soul   \n",
       "24240                                              Revive   \n",
       "5246      Live at WFMU on Evan Davies's Show on 8/19/2008   \n",
       "\n",
       "                    artist_name                                 genre  \\\n",
       "track_id                                                                \n",
       "12997                      D-84                            Electronic   \n",
       "23410                    Vicnet  AvantGarde|International|Blues|Jazz|   \n",
       "19894             THF Drenching             AvantGarde|International|   \n",
       "14685      Must Have Been Tokyo             AvantGarde|International|   \n",
       "8910            Hayvanlar Alemi       AvantGarde|International|Blues|   \n",
       "12146                The Slants                                   Pop   \n",
       "11056      Meanwhileproject.ltd             AvantGarde|International|   \n",
       "18088     Advantage Music Group                                HipHop   \n",
       "24240                  Steadman  AvantGarde|International|Blues|Jazz|   \n",
       "5246            The Cute Lepers                                  Rock   \n",
       "\n",
       "                                               track_title  \n",
       "track_id                                                    \n",
       "12997     Bevin's Big Fat Mama - Rj Wuz Here (Thanks Peep)  \n",
       "23410                                            Apthe 707  \n",
       "19894                       Personal Injury Assist Go Home  \n",
       "14685                                   Blood In The Water  \n",
       "8910                                 Neptune Sunset Casino  \n",
       "12146                            Kokoro (I Fall To Pieces)  \n",
       "11056                                            The shore  \n",
       "18088                                   Details ILL POETIX  \n",
       "24240                                           Come Alive  \n",
       "5246                                                 Intro  "
      ]
     },
     "execution_count": 41,
     "metadata": {},
     "output_type": "execute_result"
    }
   ],
   "source": [
    "ge_mix.head(10)"
   ]
  },
  {
   "cell_type": "code",
   "execution_count": 42,
   "metadata": {},
   "outputs": [
    {
     "data": {
      "text/plain": [
       "(1507, 4)"
      ]
     },
     "execution_count": 42,
     "metadata": {},
     "output_type": "execute_result"
    }
   ],
   "source": [
    "ge_re.shape"
   ]
  },
  {
   "cell_type": "code",
   "execution_count": 79,
   "metadata": {},
   "outputs": [
    {
     "data": {
      "text/plain": [
       "(5, 4)"
      ]
     },
     "execution_count": 79,
     "metadata": {},
     "output_type": "execute_result"
    }
   ],
   "source": [
    "ge_ar.shape"
   ]
  },
  {
   "cell_type": "code",
   "execution_count": 80,
   "metadata": {},
   "outputs": [
    {
     "data": {
      "text/plain": [
       "(1183, 4)"
      ]
     },
     "execution_count": 80,
     "metadata": {},
     "output_type": "execute_result"
    }
   ],
   "source": [
    "ge_mix.shape"
   ]
  },
  {
   "cell_type": "code",
   "execution_count": null,
   "metadata": {},
   "outputs": [],
   "source": []
  }
 ],
 "metadata": {
  "kernelspec": {
   "display_name": "Python 3",
   "language": "python",
   "name": "python3"
  },
  "language_info": {
   "codemirror_mode": {
    "name": "ipython",
    "version": 3
   },
   "file_extension": ".py",
   "mimetype": "text/x-python",
   "name": "python",
   "nbconvert_exporter": "python",
   "pygments_lexer": "ipython3",
   "version": "3.8.5"
  }
 },
 "nbformat": 4,
 "nbformat_minor": 2
}
